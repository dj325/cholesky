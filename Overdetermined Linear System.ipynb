{
 "cells": [
  {
   "cell_type": "markdown",
   "metadata": {},
   "source": [
    "# Overdetermined Linear System\n",
    "A system is overdetermined if there are more equations than unknowns.\n",
    "\\begin{equation}\n",
    "\\mathbf{Ax}=\\mathbf{b}\n",
    "\\end{equation}\n",
    "Consider the example:\n",
    "\\begin{equation}\n",
    "\\begin{pmatrix} 2 \\\\ 3 \\end{pmatrix} \\begin{bmatrix}x\\end{bmatrix} = \\begin{pmatrix} 6 \\\\ 6 \\end{pmatrix}\n",
    "\\end{equation}\n",
    "Obviously for equation $(1$) to hold $x$ must be $3$ and for $(2)$, $x$ must be $2$.\n",
    "\n",
    "This can be reduced to a standard linear equation by multiplying by $\\mathbf{A}^{T}$.\n",
    "\n",
    "\\begin{align}\n",
    "  \\begin{aligned}\n",
    "    \\begin{pmatrix} 2 & 3 \\end{pmatrix}\\begin{pmatrix} 2 \\\\ 3 \\end{pmatrix} \\begin{bmatrix}x\\end{bmatrix} &= \\begin{pmatrix} 2 & 3 \\end{pmatrix}\\begin{pmatrix} 6 \\\\ 6 \\end{pmatrix} \\\\\n",
    "    13\\mathbf{x} &= 30 \\\\\n",
    "    \\mathbf{x} &= 2 \\frac{4}{13}\n",
    "  \\end{aligned}\n",
    "\\end{align}\n",
    "\n",
    "And surprisingly we reveal that $2.5$ is not the solution. "
   ]
  },
  {
   "cell_type": "code",
   "execution_count": 5,
   "metadata": {},
   "outputs": [],
   "source": [
    "import matplotlib.pyplot as plt\n",
    "import numpy as np"
   ]
  },
  {
   "cell_type": "code",
   "execution_count": 89,
   "metadata": {},
   "outputs": [],
   "source": [
    "x = np.array([[2],[3],[4]])\n",
    "y = np.array([[6],[6],[6]])"
   ]
  },
  {
   "cell_type": "code",
   "execution_count": 90,
   "metadata": {},
   "outputs": [],
   "source": [
    "def least_squares(x,y,m_min, m_max):\n",
    "    m_samples = np.linspace(m_min, m_max)\n",
    "    S = []\n",
    "    for m in m_samples:\n",
    "        S_i = 0\n",
    "        for x_i, y_i in zip(x,y):\n",
    "            S_i += (x_i * m - y_i) ** 2\n",
    "        S.append(S_i)\n",
    "        \n",
    "    S_min = min(S)\n",
    "    pos = S.index(S_min)\n",
    "    m_min = m_samples[pos]\n",
    "    print(m_min, S_min)\n",
    "    return (m_samples, S)\n",
    "        "
   ]
  },
  {
   "cell_type": "code",
   "execution_count": 93,
   "metadata": {},
   "outputs": [
    {
     "name": "stdout",
     "output_type": "stream",
     "text": [
      "1.836734693877551 [7.4668888]\n"
     ]
    }
   ],
   "source": [
    "data = least_squares(x,y,0,3)"
   ]
  },
  {
   "cell_type": "code",
   "execution_count": 94,
   "metadata": {},
   "outputs": [
    {
     "data": {
      "text/plain": [
       "Text(0, 0.5, 'Sum of squares error')"
      ]
     },
     "execution_count": 94,
     "metadata": {},
     "output_type": "execute_result"
    },
    {
     "data": {
      "image/png": "[encoded data removed]",
      "text/plain": [
       "<Figure size 432x288 with 1 Axes>"
      ]
     },
     "metadata": {
      "needs_background": "light"
     },
     "output_type": "display_data"
    }
   ],
   "source": [
    "plt.plot(data[0], data[1])\n",
    "plt.xlabel(\"m\")\n",
    "plt.ylabel(\"Sum of squares error\")"
   ]
  },
  {
   "cell_type": "code",
   "execution_count": null,
   "metadata": {},
   "outputs": [],
   "source": []
  }
 ],
 "metadata": {
  "kernelspec": {
   "display_name": "Python 3",
   "language": "python",
   "name": "python3"
  },
  "language_info": {
   "codemirror_mode": {
    "name": "ipython",
    "version": 3
   },
   "file_extension": ".py",
   "mimetype": "text/x-python",
   "name": "python",
   "nbconvert_exporter": "python",
   "pygments_lexer": "ipython3",
   "version": "3.6.7"
  }
 },
 "nbformat": 4,
 "nbformat_minor": 2
}
